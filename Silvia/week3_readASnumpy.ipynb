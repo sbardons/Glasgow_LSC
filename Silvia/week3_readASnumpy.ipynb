{
 "cells": [
  {
   "cell_type": "markdown",
   "id": "1b08990c-d9ef-4773-bc98-bf3808d0680b",
   "metadata": {},
   "source": [
    "Examples 2 and 3"
   ]
  },
  {
   "cell_type": "code",
   "execution_count": 1,
   "id": "d1a6af8c-5bec-4183-8260-62123d3756e2",
   "metadata": {
    "tags": []
   },
   "outputs": [],
   "source": [
    "# load the libraries we'll need\n",
    "import matplotlib.pyplot as plt\n",
    "import numpy as np\n",
    "import tensorflow as tf\n",
    "import sys\n",
    "np.set_printoptions(suppress=True)"
   ]
  },
  {
   "cell_type": "code",
   "execution_count": 9,
   "id": "b02b92c2-29c9-4bda-98d5-f1a722faafe5",
   "metadata": {
    "tags": []
   },
   "outputs": [],
   "source": [
    "# create random input data\n",
    "x_input = np.random.uniform(size=(1,10)).astype(np.float32)\n",
    "W = tf.Variable(tf.random.uniform([10,2]),name='W')\n",
    "b = tf.Variable(tf.ones([2]),name='b')"
   ]
  },
  {
   "cell_type": "code",
   "execution_count": 3,
   "id": "6e239fea-1e8e-40ee-97a3-c202909c880b",
   "metadata": {
    "tags": []
   },
   "outputs": [],
   "source": [
    "# perform a simple operation\n",
    "def multiply_add(x):\n",
    "    return tf.matmul(x,W) + b"
   ]
  },
  {
   "cell_type": "code",
   "execution_count": 4,
   "id": "28baa7c3-2bcb-42db-8258-2c343df29852",
   "metadata": {
    "tags": []
   },
   "outputs": [],
   "source": [
    "# make the calculation\n",
    "y = multiply_add(x_input)"
   ]
  },
  {
   "cell_type": "code",
   "execution_count": 12,
   "id": "a8675324-60a9-4e5e-9cc3-c08399d3bec4",
   "metadata": {
    "tags": []
   },
   "outputs": [
    {
     "name": "stdout",
     "output_type": "stream",
     "text": [
      "[[0.8976681  0.6833673  0.32689324 0.49193323 0.5466849  0.5559122\n",
      "  0.96683025 0.12782235 0.95931715 0.94087327]]\n"
     ]
    }
   ],
   "source": [
    "print(x_input)"
   ]
  },
  {
   "cell_type": "code",
   "execution_count": 5,
   "id": "3b4adbe1-9a52-40bb-bb57-e3351fe8495d",
   "metadata": {
    "tags": []
   },
   "outputs": [
    {
     "name": "stdout",
     "output_type": "stream",
     "text": [
      "[1. 1.]\n"
     ]
    }
   ],
   "source": [
    "# print the variables and the result of the calculation\n",
    "print(b.numpy())"
   ]
  },
  {
   "cell_type": "code",
   "execution_count": 6,
   "id": "f1d40d78-8adf-4b03-9898-0548394c1d0c",
   "metadata": {
    "tags": []
   },
   "outputs": [
    {
     "name": "stdout",
     "output_type": "stream",
     "text": [
      "[[0.883178   0.642149  ]\n",
      " [0.49885058 0.7298292 ]\n",
      " [0.45937717 0.43429887]\n",
      " [0.7481575  0.5131844 ]\n",
      " [0.60794556 0.12127113]\n",
      " [0.16030061 0.8108101 ]\n",
      " [0.5884304  0.700251  ]\n",
      " [0.32095027 0.71855915]\n",
      " [0.65981424 0.5615494 ]\n",
      " [0.23467839 0.76206386]]\n"
     ]
    }
   ],
   "source": [
    "print(W.numpy())"
   ]
  },
  {
   "cell_type": "code",
   "execution_count": 7,
   "id": "9ec6fed1-905b-4d37-9376-4c4223da154b",
   "metadata": {
    "tags": []
   },
   "outputs": [
    {
     "name": "stdout",
     "output_type": "stream",
     "text": [
      "[[3.1789548 3.7212949]]\n"
     ]
    }
   ],
   "source": [
    "print(y.numpy())"
   ]
  },
  {
   "cell_type": "markdown",
   "id": "4446e1b4-94bd-46d1-babc-87f0f4508fa8",
   "metadata": {},
   "source": [
    "### Using graph node"
   ]
  },
  {
   "cell_type": "markdown",
   "id": "13342232-439f-4f68-8dba-e3daf92b696a",
   "metadata": {},
   "source": [
    "#### First, we’ll use eager mode again to make a slightly different calculation"
   ]
  },
  {
   "cell_type": "code",
   "execution_count": 14,
   "id": "8f915780-e8af-43c6-ac1e-67ae4745c7bf",
   "metadata": {
    "tags": []
   },
   "outputs": [],
   "source": [
    "# create a new variable\n",
    "b_init = tf.Variable(tf.ones([2]),name='b_init')\n",
    "\n",
    "# perform the operation in a loop\n",
    "def multiply_add(x,b):\n",
    "    for i in range(5):\n",
    "        output = tf.matmul(x,W) + b\n",
    "        # increase the value of b\n",
    "        b = tf.add(output, b)\n",
    "        # here we print the offset b which will change values within the loop\n",
    "        print(b)\n",
    "    return output"
   ]
  },
  {
   "cell_type": "code",
   "execution_count": 15,
   "id": "7fc682fa-e639-4ce4-a3b3-776ffa2b5777",
   "metadata": {
    "tags": []
   },
   "outputs": [
    {
     "name": "stdout",
     "output_type": "stream",
     "text": [
      "tf.Tensor([[5.936059 4.514458]], shape=(1, 2), dtype=float32)\n",
      "tf.Tensor([[15.808177 11.543375]], shape=(1, 2), dtype=float32)\n",
      "tf.Tensor([[35.552414 25.601208]], shape=(1, 2), dtype=float32)\n",
      "tf.Tensor([[75.040886 53.716873]], shape=(1, 2), dtype=float32)\n",
      "tf.Tensor([[154.01782  109.948204]], shape=(1, 2), dtype=float32)\n"
     ]
    }
   ],
   "source": [
    "# run the function that will execute the for-loop\n",
    "y = multiply_add(x_input,b_init)"
   ]
  },
  {
   "cell_type": "markdown",
   "id": "75557c30-4b7a-40ce-9246-0375d28a42cc",
   "metadata": {},
   "source": [
    "### Next, we’ll convert to graph mode by introducing a function decorator"
   ]
  },
  {
   "cell_type": "code",
   "execution_count": 17,
   "id": "35f5290b-e0c2-4535-9954-1fb118d16969",
   "metadata": {
    "tags": []
   },
   "outputs": [],
   "source": [
    "@tf.function\n",
    "def multiply_add(x,b):\n",
    "    for i in range(5):\n",
    "        output = tf.matmul(x,W) + b\n",
    "        # increase the value of b\n",
    "        b = tf.add(output, b)\n",
    "        # here we print the offset b which will change values within the loop\n",
    "        print(b)\n",
    "    return output"
   ]
  },
  {
   "cell_type": "code",
   "execution_count": 18,
   "id": "6bd3b02b-8d0f-4418-a954-dafc879af5c1",
   "metadata": {
    "tags": []
   },
   "outputs": [
    {
     "name": "stdout",
     "output_type": "stream",
     "text": [
      "Tensor(\"Add_1:0\", shape=(1, 2), dtype=float32)\n",
      "Tensor(\"Add_3:0\", shape=(1, 2), dtype=float32)\n",
      "Tensor(\"Add_5:0\", shape=(1, 2), dtype=float32)\n",
      "Tensor(\"Add_7:0\", shape=(1, 2), dtype=float32)\n",
      "Tensor(\"Add_9:0\", shape=(1, 2), dtype=float32)\n"
     ]
    }
   ],
   "source": [
    "# run the function that will execute the for-loop\n",
    "y = multiply_add(x_input,b_init)"
   ]
  },
  {
   "cell_type": "code",
   "execution_count": null,
   "id": "beffac55-35b3-441e-95a3-257f4661fdac",
   "metadata": {},
   "outputs": [],
   "source": [
    "# the value of the tensor is not displayed"
   ]
  },
  {
   "cell_type": "code",
   "execution_count": 19,
   "id": "66db6d14-66fd-41e9-add6-e116ef65deb4",
   "metadata": {
    "tags": []
   },
   "outputs": [],
   "source": [
    "#Plus if we call the function again, we can see that nothing is printed.\n",
    "y = multiply_add(x_input,b_init)"
   ]
  },
  {
   "cell_type": "code",
   "execution_count": null,
   "id": "1ad0a253-6df7-47dd-b676-ffe83213b72b",
   "metadata": {},
   "outputs": [],
   "source": []
  }
 ],
 "metadata": {
  "kernelspec": {
   "display_name": "Python 3 (ipykernel)",
   "language": "python",
   "name": "python3"
  },
  "language_info": {
   "codemirror_mode": {
    "name": "ipython",
    "version": 3
   },
   "file_extension": ".py",
   "mimetype": "text/x-python",
   "name": "python",
   "nbconvert_exporter": "python",
   "pygments_lexer": "ipython3",
   "version": "3.8.16"
  }
 },
 "nbformat": 4,
 "nbformat_minor": 5
}
